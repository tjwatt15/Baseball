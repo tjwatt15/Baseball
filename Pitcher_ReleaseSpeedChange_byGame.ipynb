{
  "nbformat": 4,
  "nbformat_minor": 0,
  "metadata": {
    "colab": {
      "name": "Pitcher_ReleaseSpeedChange_byGame.ipynb",
      "version": "0.3.2",
      "provenance": [],
      "include_colab_link": true
    },
    "kernelspec": {
      "name": "python3",
      "display_name": "Python 3"
    },
    "accelerator": "GPU"
  },
  "cells": [
    {
      "cell_type": "markdown",
      "metadata": {
        "id": "view-in-github",
        "colab_type": "text"
      },
      "source": [
        "<a href=\"https://colab.research.google.com/github/tjwatt15/Baseball/blob/master/Pitcher_ReleaseSpeedChange_byGame.ipynb\" target=\"_parent\"><img src=\"https://colab.research.google.com/assets/colab-badge.svg\" alt=\"Open In Colab\"/></a>"
      ]
    },
    {
      "cell_type": "code",
      "metadata": {
        "id": "Y0tqdmZe0RiB",
        "colab_type": "code",
        "colab": {
          "base_uri": "https://localhost:8080/",
          "height": 390
        },
        "outputId": "13544dff-c6a8-4b05-9c0b-b529ef7a8210"
      },
      "source": [
        "!pip install pybaseball"
      ],
      "execution_count": 2,
      "outputs": [
        {
          "output_type": "stream",
          "text": [
            "Collecting pybaseball\n",
            "  Downloading https://files.pythonhosted.org/packages/63/00/31891da5b632821864411d5b3327df137e93d0bce118d94e9d0f6baa5c00/pybaseball-1.0.8.tar.gz\n",
            "Requirement already satisfied: numpy>=1.13.0 in /usr/local/lib/python3.6/dist-packages (from pybaseball) (1.16.4)\n",
            "Requirement already satisfied: pandas>=0.20.2 in /usr/local/lib/python3.6/dist-packages (from pybaseball) (0.24.2)\n",
            "Requirement already satisfied: beautifulsoup4>=4.4.0 in /usr/local/lib/python3.6/dist-packages (from pybaseball) (4.6.3)\n",
            "Requirement already satisfied: requests>=2.18.1 in /usr/local/lib/python3.6/dist-packages (from pybaseball) (2.21.0)\n",
            "Requirement already satisfied: lxml>=4.2.1 in /usr/local/lib/python3.6/dist-packages (from pybaseball) (4.2.6)\n",
            "Requirement already satisfied: pytz>=2011k in /usr/local/lib/python3.6/dist-packages (from pandas>=0.20.2->pybaseball) (2018.9)\n",
            "Requirement already satisfied: python-dateutil>=2.5.0 in /usr/local/lib/python3.6/dist-packages (from pandas>=0.20.2->pybaseball) (2.5.3)\n",
            "Requirement already satisfied: urllib3<1.25,>=1.21.1 in /usr/local/lib/python3.6/dist-packages (from requests>=2.18.1->pybaseball) (1.24.3)\n",
            "Requirement already satisfied: chardet<3.1.0,>=3.0.2 in /usr/local/lib/python3.6/dist-packages (from requests>=2.18.1->pybaseball) (3.0.4)\n",
            "Requirement already satisfied: idna<2.9,>=2.5 in /usr/local/lib/python3.6/dist-packages (from requests>=2.18.1->pybaseball) (2.8)\n",
            "Requirement already satisfied: certifi>=2017.4.17 in /usr/local/lib/python3.6/dist-packages (from requests>=2.18.1->pybaseball) (2019.6.16)\n",
            "Requirement already satisfied: six>=1.5 in /usr/local/lib/python3.6/dist-packages (from python-dateutil>=2.5.0->pandas>=0.20.2->pybaseball) (1.12.0)\n",
            "Building wheels for collected packages: pybaseball\n",
            "  Building wheel for pybaseball (setup.py) ... \u001b[?25l\u001b[?25hdone\n",
            "  Created wheel for pybaseball: filename=pybaseball-1.0.8-cp36-none-any.whl size=36008 sha256=0eae5d4212a175862fff526f3611f230ece04d76b62fb6c6b5af72336e248425\n",
            "  Stored in directory: /root/.cache/pip/wheels/d5/7b/fb/b1f8a38eb135628a747627977fd18d13ce2c210cffa08ee5a5\n",
            "Successfully built pybaseball\n",
            "Installing collected packages: pybaseball\n",
            "Successfully installed pybaseball-1.0.8\n"
          ],
          "name": "stdout"
        }
      ]
    },
    {
      "cell_type": "code",
      "metadata": {
        "id": "R6iqQLuWMYCx",
        "colab_type": "code",
        "colab": {
          "base_uri": "https://localhost:8080/",
          "height": 52
        },
        "outputId": "62d1e02d-098d-4c4d-ea17-2149f9d28625"
      },
      "source": [
        "from pybaseball import statcast_pitcher\n",
        "from pybaseball import playerid_lookup\n",
        "\n",
        "# find Chris Sale's player id (mlbam_key)\n",
        "playerid_lookup('hand','brad')\n",
        "\n",
        "# get all available data\n",
        "data = statcast_pitcher('2019-03-28', '2019-08-12', player_id = 543272)"
      ],
      "execution_count": 86,
      "outputs": [
        {
          "output_type": "stream",
          "text": [
            "Gathering player lookup table. This may take a moment.\n",
            "Gathering Player Data\n"
          ],
          "name": "stdout"
        }
      ]
    },
    {
      "cell_type": "code",
      "metadata": {
        "id": "FcPAt0EQR2bh",
        "colab_type": "code",
        "colab": {}
      },
      "source": [
        "data = data[['game_date'\n",
        "            ,'release_speed'\n",
        "            ,'pitch_name']]\n",
        "\n",
        "slider = data.query('pitch_name == \"Slider\"')\n",
        "two_seam = data.query('pitch_name == \"2-Seam Fastball\"')\n",
        "four_seam = data.query('pitch_name == \"4-Seam Fastball\"')\n",
        "\n",
        "slider_grouped = slider.groupby(by='game_date').mean().sort_values('game_date', ascending=True).reset_index()\n",
        "two_seam_grouped = two_seam.groupby(by='game_date').mean().sort_values('game_date', ascending=True).reset_index()\n",
        "four_seam_grouped = four_seam.groupby(by='game_date').mean().sort_values('game_date', ascending=True).reset_index()\n",
        "#grouped = data.groupby(by=['pitch_name','game_date']).mean().sort_values(['pitch_name','game_date'], ascending=False)"
      ],
      "execution_count": 0,
      "outputs": []
    },
    {
      "cell_type": "markdown",
      "metadata": {
        "id": "YRuFMJY5smqj",
        "colab_type": "text"
      },
      "source": [
        "#Plotting Speed by Pitch"
      ]
    },
    {
      "cell_type": "code",
      "metadata": {
        "id": "GUECwIhhTAKc",
        "colab_type": "code",
        "colab": {}
      },
      "source": [
        "slider_grouped.plot(x='game_date', y='release_speed', figsize=(20,4))"
      ],
      "execution_count": 0,
      "outputs": []
    },
    {
      "cell_type": "code",
      "metadata": {
        "id": "l08HIoTyVKhR",
        "colab_type": "code",
        "colab": {}
      },
      "source": [
        "two_seam_grouped.plot(x='game_date', y='release_speed', figsize = (20,4))"
      ],
      "execution_count": 0,
      "outputs": []
    },
    {
      "cell_type": "code",
      "metadata": {
        "id": "ANeuA1ixVf-4",
        "colab_type": "code",
        "colab": {}
      },
      "source": [
        "four_seam_grouped.plot(x='game_date', y='release_speed', figsize = (20,4))"
      ],
      "execution_count": 0,
      "outputs": []
    },
    {
      "cell_type": "code",
      "metadata": {
        "id": "QTrLLmI1VjzZ",
        "colab_type": "code",
        "colab": {
          "base_uri": "https://localhost:8080/",
          "height": 34
        },
        "outputId": "b89359a1-4042-4dca-eb98-f4befebc0205"
      },
      "source": [
        "last_n_games = int(input(\"How many games back do you want to examine? \"))\n",
        "\n",
        "if type(last_n_games) == int:\n",
        "  pass\n",
        "else:\n",
        "  raise Exception(\"Please enter an integer for the number of games back you'd like to examine.\")\n",
        "season_dates = data['game_date'].unique()[last_n_games:]"
      ],
      "execution_count": 97,
      "outputs": [
        {
          "output_type": "stream",
          "text": [
            "How many games back do you want to examine? 2\n"
          ],
          "name": "stdout"
        }
      ]
    },
    {
      "cell_type": "code",
      "metadata": {
        "id": "zYuYJdVXMVnt",
        "colab_type": "code",
        "colab": {}
      },
      "source": [
        "season = data[data['game_date'].isin(season_dates)]\n",
        "last_n = data[~data['game_date'].isin(season_dates)]"
      ],
      "execution_count": 0,
      "outputs": []
    },
    {
      "cell_type": "code",
      "metadata": {
        "id": "jXSx9CrKh8bv",
        "colab_type": "code",
        "colab": {
          "base_uri": "https://localhost:8080/",
          "height": 123
        },
        "outputId": "15977782-eb73-41b7-f39e-b6682d124d37"
      },
      "source": [
        "for i in (data['pitch_name'].unique()):\n",
        "  season2 = season.query(f'pitch_name == \"{i}\"')\n",
        "  season2= season2[['release_speed']]\n",
        "  last_n2 = last_n.query(f'pitch_name == \"{i}\"')\n",
        "  last_n2 = last_n2[['release_speed']]\n",
        "  t, p = ttest_ind(season2, last_n2, equal_var = False)\n",
        "  print(f'The season velocity for {i} pitches is {round(season2.mean()[0],2)} mph, and the last n games has a velocity of {round(last_n2.mean()[0],2)} mph.\\nThe t-statistic is {round(t[0], 2)} and this result has a p-value of {round(p[0],2)}.')"
      ],
      "execution_count": 108,
      "outputs": [
        {
          "output_type": "stream",
          "text": [
            "The season velocity for 4-Seam Fastball pitches is 92.81 mph, and the last n games has a velocity of 93.58 mph.\n",
            "The t-statistic is -3.89 and this result has a p-value of 0.0.\n",
            "The season velocity for Slider pitches is 81.05 mph, and the last n games has a velocity of 81.86 mph.\n",
            "The t-statistic is -4.48 and this result has a p-value of 0.0.\n",
            "The season velocity for 2-Seam Fastball pitches is 92.02 mph, and the last n games has a velocity of 92.37 mph.\n",
            "The t-statistic is -0.46 and this result has a p-value of 0.68.\n"
          ],
          "name": "stdout"
        }
      ]
    }
  ]
}